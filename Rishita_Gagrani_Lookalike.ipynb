{
  "nbformat": 4,
  "nbformat_minor": 0,
  "metadata": {
    "colab": {
      "provenance": []
    },
    "kernelspec": {
      "name": "python3",
      "display_name": "Python 3"
    },
    "language_info": {
      "name": "python"
    }
  },
  "cells": [
    {
      "cell_type": "code",
      "execution_count": null,
      "metadata": {
        "id": "cCtn_Noj_YIv"
      },
      "outputs": [],
      "source": [
        "# Creating a lookalike model\n",
        "# Merging datasets for analysis\n",
        "merged_data = pd.merge(transactions, customers, on='CustomerID')\n",
        "merged_data = pd.merge(merged_data, products, on='ProductID')\n",
        "\n",
        "# Pivot table for customer-product interaction\n",
        "user_product_matrix = merged_data.pivot_table(index='CustomerID', columns='ProductID', values='Quantity', fill_value=0)\n",
        "\n",
        "# Cosine similarity for customer similarity\n",
        "similarity_matrix = cosine_similarity(user_product_matrix)\n",
        "similarity_df = pd.DataFrame(similarity_matrix, index=user_product_matrix.index, columns=user_product_matrix.index)\n",
        "\n",
        "# Function to get top similar customers\n",
        "def get_top_similar(customers_df, similarity_df, top_n=3):\n",
        "    lookalikes = {}\n",
        "    for customer_id in customers_df['CustomerID'][:20]:\n",
        "        sim_scores = similarity_df[customer_id].sort_values(ascending=False)[1:top_n+1]\n",
        "        lookalikes[customer_id] = list(sim_scores.items())\n",
        "    return lookalikes\n",
        "\n",
        "lookalike_recommendations = get_top_similar(customers, similarity_df)\n",
        "\n",
        "# Save recommendations to CSV\n",
        "output_lookalike_csv = 'Rishita_Gagrani_Lookalike.csv'\n",
        "pd.DataFrame.from_dict(lookalike_recommendations, orient='index').to_csv(output_lookalike_csv)\n",
        "print(f\"Lookalike recommendations saved to {output_lookalike_csv}\")"
      ]
    }
  ]
}